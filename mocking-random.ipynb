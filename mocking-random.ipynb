{
 "cells": [
  {
   "cell_type": "code",
   "execution_count": 143,
   "metadata": {},
   "outputs": [],
   "source": [
    "import pandas as pd\n",
    "import numpy as np\n",
    "import random"
   ]
  },
  {
   "cell_type": "code",
   "execution_count": 144,
   "metadata": {},
   "outputs": [],
   "source": [
    "users = pd.DataFrame(\n",
    "    columns=[\n",
    "        \"id\",\n",
    "        \"createdAt\",\n",
    "        \"birthDate\",\n",
    "        \"city\",\n",
    "        \"state\",\n",
    "        \"country\",\n",
    "        \"firstAccountType\",\n",
    "        \"timeToOnboarding\",\n",
    "        \"timeToFirstTransfer\",\n",
    "        \"lastLoginDate\",\n",
    "    ]\n",
    ")\n",
    "\n",
    "accounts = pd.DataFrame(\n",
    "    columns=[\n",
    "        \"id\",\n",
    "        \"createdAt\",\n",
    "        \"accountType\",\n",
    "        \"balance\",\n",
    "        \"status\",\n",
    "        \"userId\",\n",
    "        \"lastActivityDate\",\n",
    "        \"lastTransferDate\",\n",
    "    ]\n",
    ")\n",
    "\n",
    "transfers = pd.DataFrame(\n",
    "    columns=[\n",
    "        \"id\",\n",
    "        \"amount\",\n",
    "        \"accountType\",\n",
    "        \"minute\",\n",
    "        \"hour\",\n",
    "        \"date\",\n",
    "        \"createdAt\",\n",
    "        \"scheduled\",\n",
    "        \"status\",\n",
    "        \"fromId\",\n",
    "        \"toId\",\n",
    "    ]\n",
    ")"
   ]
  },
  {
   "cell_type": "markdown",
   "metadata": {},
   "source": [
    "# Utilizando um dataset para ter todas as cidades do brasil"
   ]
  },
  {
   "cell_type": "code",
   "execution_count": 145,
   "metadata": {},
   "outputs": [
    {
     "data": {
      "text/html": [
       "<div>\n",
       "<style scoped>\n",
       "    .dataframe tbody tr th:only-of-type {\n",
       "        vertical-align: middle;\n",
       "    }\n",
       "\n",
       "    .dataframe tbody tr th {\n",
       "        vertical-align: top;\n",
       "    }\n",
       "\n",
       "    .dataframe thead th {\n",
       "        text-align: right;\n",
       "    }\n",
       "</style>\n",
       "<table border=\"1\" class=\"dataframe\">\n",
       "  <thead>\n",
       "    <tr style=\"text-align: right;\">\n",
       "      <th></th>\n",
       "      <th>UF</th>\n",
       "      <th>Município</th>\n",
       "      <th>Região</th>\n",
       "      <th>População 2010</th>\n",
       "      <th>Porte</th>\n",
       "      <th>Capital</th>\n",
       "      <th>Porcentagem da População</th>\n",
       "    </tr>\n",
       "  </thead>\n",
       "  <tbody>\n",
       "    <tr>\n",
       "      <th>3740</th>\n",
       "      <td>SP</td>\n",
       "      <td>Rancharia</td>\n",
       "      <td>Região Sudeste</td>\n",
       "      <td>28804.0</td>\n",
       "      <td>Pequeno II</td>\n",
       "      <td>NaN</td>\n",
       "      <td>0.000151</td>\n",
       "    </tr>\n",
       "  </tbody>\n",
       "</table>\n",
       "</div>"
      ],
      "text/plain": [
       "      UF  Município          Região  População 2010       Porte Capital  \\\n",
       "3740  SP  Rancharia  Região Sudeste         28804.0  Pequeno II     NaN   \n",
       "\n",
       "      Porcentagem da População  \n",
       "3740                  0.000151  "
      ]
     },
     "execution_count": 145,
     "metadata": {},
     "output_type": "execute_result"
    }
   ],
   "source": [
    "cidades_brasil = pd.read_csv(\n",
    "    \"http://blog.mds.gov.br/redesuas/wp-content/uploads/2018/06/Lista_Munic%C3%ADpios_com_IBGE_Brasil_Versao_CSV.csv\",\n",
    "    sep=\";\",\n",
    "    encoding=\"latin1\",\n",
    ")\n",
    "\n",
    "cidades_brasil.drop(\n",
    "    columns=[\"ConcatUF+Mun\", \"IBGE\", \"IBGE7\", \"Unnamed: 9\"], inplace=True\n",
    ")\n",
    "\n",
    "populacao_total = cidades_brasil[\"População 2010\"].sum()\n",
    "cidades_brasil[\"Porcentagem da População\"] = (\n",
    "    cidades_brasil[\"População 2010\"] / populacao_total\n",
    ")\n",
    "cidades_brasil.query(\"Município == 'Rancharia'\")"
   ]
  },
  {
   "cell_type": "code",
   "execution_count": 146,
   "metadata": {},
   "outputs": [],
   "source": [
    "def get_random_city():\n",
    "    return (cidades_brasil.sample(1).iloc[0][[\"Município\", \"UF\"]]).values\n",
    "\n",
    "users[[\"city\", \"state\"]] = [get_random_city() for _ in range(10000)]\n",
    "users[\"country\"] = \"Brasil\""
   ]
  },
  {
   "cell_type": "code",
   "execution_count": 147,
   "metadata": {},
   "outputs": [],
   "source": [
    "def gen_random_date():\n",
    "    day = random.randint(1, 31)\n",
    "    month = random.randint(1, 12)\n",
    "    year = random.randint(1950, 2000)\n",
    "    if month == 2 and day > 28:\n",
    "        day = 28\n",
    "    if month in [4, 6, 9, 11] and day > 30:\n",
    "        day = 30\n",
    "    if month == 2 and day == 29:\n",
    "        if year % 4 != 0 or (year % 100 == 0 and year % 400 != 0):\n",
    "            day = 28\n",
    "    birth_date = pd.Timestamp(\n",
    "        year=year, month=month, day=day, hour=0, minute=0, second=0\n",
    "    )\n",
    "    return birth_date "
   ]
  },
  {
   "cell_type": "code",
   "execution_count": 148,
   "metadata": {},
   "outputs": [],
   "source": [
    "users[\"birthDate\"] = [gen_random_date() for _ in range(10000)]"
   ]
  },
  {
   "cell_type": "code",
   "execution_count": 149,
   "metadata": {},
   "outputs": [],
   "source": [
    "def choose_account_type():\n",
    "    weights = [0.6, 0.4]\n",
    "    choice = random.choices([\"Conta Corrente\", \"Conta Poupança\"], weights=weights)\n",
    "    return choice[0]"
   ]
  },
  {
   "cell_type": "code",
   "execution_count": 150,
   "metadata": {},
   "outputs": [],
   "source": [
    "users[\"firstAccountType\"] = [choose_account_type() for _ in range(10000)]"
   ]
  },
  {
   "cell_type": "code",
   "execution_count": 151,
   "metadata": {},
   "outputs": [],
   "source": [
    "def gen_random_time_to_onboarding():\n",
    "    return random.randint(60, 360)"
   ]
  },
  {
   "cell_type": "code",
   "execution_count": 152,
   "metadata": {},
   "outputs": [],
   "source": [
    "users[\"timeToOnboarding\"] = [gen_random_time_to_onboarding() for _ in range(10000)]"
   ]
  },
  {
   "cell_type": "code",
   "execution_count": 153,
   "metadata": {},
   "outputs": [],
   "source": [
    "def gen_random_time_to_first_transfer():\n",
    "    return random.randint(120, 1.21e6)"
   ]
  },
  {
   "cell_type": "code",
   "execution_count": 154,
   "metadata": {},
   "outputs": [],
   "source": [
    "users[\"timeToFirstTransfer\"] = [gen_random_time_to_first_transfer() for _ in range(10000)]"
   ]
  },
  {
   "cell_type": "code",
   "execution_count": 155,
   "metadata": {},
   "outputs": [],
   "source": [
    "def gen_random_created_at():\n",
    "    year = random.randint(2020, 2023)\n",
    "    month = random.randint(1, 12)\n",
    "    day = random.randint(1, 31)\n",
    "    if month == 2 and day > 28:\n",
    "        day = 28\n",
    "    if month in [4, 6, 9, 11] and day > 30:\n",
    "        day = 30\n",
    "    if month == 2 and day == 29:\n",
    "        if year % 4 != 0 or (year % 100 == 0 and year % 400 != 0):\n",
    "            day = 28\n",
    "    hour = random.randint(0, 23)\n",
    "    minute = random.randint(0, 59)\n",
    "    second = random.randint(0, 59)\n",
    "    created_at = pd.Timestamp(\n",
    "        year=year,\n",
    "        month=month,\n",
    "        day=day,\n",
    "        hour=hour,\n",
    "        minute=minute,\n",
    "        second=second,\n",
    "    )\n",
    "    return created_at"
   ]
  },
  {
   "cell_type": "code",
   "execution_count": 156,
   "metadata": {},
   "outputs": [],
   "source": [
    "users[\"createdAt\"] = [gen_random_created_at() for _ in range(10000)]"
   ]
  },
  {
   "cell_type": "code",
   "execution_count": 157,
   "metadata": {},
   "outputs": [],
   "source": [
    "def gen_random_date_after(date):\n",
    "    year = random.randint(date.year, 2023)\n",
    "    month = random.randint(1, 12)\n",
    "    day = random.randint(1, 31)\n",
    "    if month == 2 and day > 28:\n",
    "        day = 28\n",
    "    if month in [4, 6, 9, 11] and day > 30:\n",
    "        day = 30\n",
    "    if month == 2 and day == 29:\n",
    "        if year % 4 != 0 or (year % 100 == 0 and year % 400 != 0):\n",
    "            day = 28\n",
    "    hour = random.randint(0, 23)\n",
    "    minute = random.randint(0, 59)\n",
    "    second = random.randint(0, 59)\n",
    "    return pd.Timestamp(\n",
    "        year=year,\n",
    "        month=month,\n",
    "        day=day,\n",
    "        hour=hour,\n",
    "        minute=minute,\n",
    "        second=second,\n",
    "    )"
   ]
  },
  {
   "cell_type": "code",
   "execution_count": 158,
   "metadata": {},
   "outputs": [],
   "source": [
    "for i, user in users.iterrows():\n",
    "    created_at = user[\"createdAt\"]\n",
    "    users.at[i, \"lastLoginDate\"] = gen_random_date_after(created_at)"
   ]
  },
  {
   "cell_type": "code",
   "execution_count": 159,
   "metadata": {},
   "outputs": [],
   "source": [
    "users['id'] = range(1, 10001)"
   ]
  },
  {
   "cell_type": "code",
   "execution_count": 160,
   "metadata": {},
   "outputs": [
    {
     "data": {
      "text/html": [
       "<div>\n",
       "<style scoped>\n",
       "    .dataframe tbody tr th:only-of-type {\n",
       "        vertical-align: middle;\n",
       "    }\n",
       "\n",
       "    .dataframe tbody tr th {\n",
       "        vertical-align: top;\n",
       "    }\n",
       "\n",
       "    .dataframe thead th {\n",
       "        text-align: right;\n",
       "    }\n",
       "</style>\n",
       "<table border=\"1\" class=\"dataframe\">\n",
       "  <thead>\n",
       "    <tr style=\"text-align: right;\">\n",
       "      <th></th>\n",
       "      <th>id</th>\n",
       "      <th>createdAt</th>\n",
       "      <th>birthDate</th>\n",
       "      <th>city</th>\n",
       "      <th>state</th>\n",
       "      <th>country</th>\n",
       "      <th>firstAccountType</th>\n",
       "      <th>timeToOnboarding</th>\n",
       "      <th>timeToFirstTransfer</th>\n",
       "      <th>lastLoginDate</th>\n",
       "    </tr>\n",
       "  </thead>\n",
       "  <tbody>\n",
       "    <tr>\n",
       "      <th>0</th>\n",
       "      <td>1</td>\n",
       "      <td>2022-07-27 02:47:30</td>\n",
       "      <td>1970-06-16</td>\n",
       "      <td>Borda da Mata</td>\n",
       "      <td>MG</td>\n",
       "      <td>Brasil</td>\n",
       "      <td>Conta Corrente</td>\n",
       "      <td>272</td>\n",
       "      <td>129298</td>\n",
       "      <td>2022-09-20 08:13:39</td>\n",
       "    </tr>\n",
       "    <tr>\n",
       "      <th>1</th>\n",
       "      <td>2</td>\n",
       "      <td>2022-08-04 12:18:01</td>\n",
       "      <td>1999-09-06</td>\n",
       "      <td>Araguatins</td>\n",
       "      <td>TO</td>\n",
       "      <td>Brasil</td>\n",
       "      <td>Conta Corrente</td>\n",
       "      <td>146</td>\n",
       "      <td>519033</td>\n",
       "      <td>2022-11-08 09:43:30</td>\n",
       "    </tr>\n",
       "    <tr>\n",
       "      <th>2</th>\n",
       "      <td>3</td>\n",
       "      <td>2022-12-01 18:17:28</td>\n",
       "      <td>1971-03-29</td>\n",
       "      <td>Cariré</td>\n",
       "      <td>CE</td>\n",
       "      <td>Brasil</td>\n",
       "      <td>Conta Corrente</td>\n",
       "      <td>108</td>\n",
       "      <td>1054012</td>\n",
       "      <td>2022-05-29 23:50:42</td>\n",
       "    </tr>\n",
       "    <tr>\n",
       "      <th>3</th>\n",
       "      <td>4</td>\n",
       "      <td>2022-01-13 03:38:20</td>\n",
       "      <td>1959-08-05</td>\n",
       "      <td>Monção</td>\n",
       "      <td>MA</td>\n",
       "      <td>Brasil</td>\n",
       "      <td>Conta Poupança</td>\n",
       "      <td>63</td>\n",
       "      <td>379139</td>\n",
       "      <td>2023-09-06 17:07:54</td>\n",
       "    </tr>\n",
       "    <tr>\n",
       "      <th>4</th>\n",
       "      <td>5</td>\n",
       "      <td>2020-08-19 08:31:16</td>\n",
       "      <td>1998-02-08</td>\n",
       "      <td>Coronel Ezequiel</td>\n",
       "      <td>RN</td>\n",
       "      <td>Brasil</td>\n",
       "      <td>Conta Poupança</td>\n",
       "      <td>203</td>\n",
       "      <td>315439</td>\n",
       "      <td>2021-01-07 14:04:07</td>\n",
       "    </tr>\n",
       "  </tbody>\n",
       "</table>\n",
       "</div>"
      ],
      "text/plain": [
       "   id           createdAt  birthDate              city state country  \\\n",
       "0   1 2022-07-27 02:47:30 1970-06-16     Borda da Mata    MG  Brasil   \n",
       "1   2 2022-08-04 12:18:01 1999-09-06        Araguatins    TO  Brasil   \n",
       "2   3 2022-12-01 18:17:28 1971-03-29            Cariré    CE  Brasil   \n",
       "3   4 2022-01-13 03:38:20 1959-08-05            Monção    MA  Brasil   \n",
       "4   5 2020-08-19 08:31:16 1998-02-08  Coronel Ezequiel    RN  Brasil   \n",
       "\n",
       "  firstAccountType  timeToOnboarding  timeToFirstTransfer        lastLoginDate  \n",
       "0   Conta Corrente               272               129298  2022-09-20 08:13:39  \n",
       "1   Conta Corrente               146               519033  2022-11-08 09:43:30  \n",
       "2   Conta Corrente               108              1054012  2022-05-29 23:50:42  \n",
       "3   Conta Poupança                63               379139  2023-09-06 17:07:54  \n",
       "4   Conta Poupança               203               315439  2021-01-07 14:04:07  "
      ]
     },
     "execution_count": 160,
     "metadata": {},
     "output_type": "execute_result"
    }
   ],
   "source": [
    "users.head()"
   ]
  },
  {
   "cell_type": "code",
   "execution_count": 161,
   "metadata": {},
   "outputs": [],
   "source": [
    "users.to_csv(\"users.csv\", mode='w', index=False)"
   ]
  },
  {
   "cell_type": "markdown",
   "metadata": {},
   "source": [
    "# Mocando contas"
   ]
  },
  {
   "cell_type": "code",
   "execution_count": 162,
   "metadata": {},
   "outputs": [],
   "source": [
    "def gen_random_balance():\n",
    "    return random.randint(100, 100000)"
   ]
  },
  {
   "cell_type": "code",
   "execution_count": 163,
   "metadata": {},
   "outputs": [],
   "source": [
    "accounts['balance'] = [gen_random_balance() for _ in range(30000)]"
   ]
  },
  {
   "cell_type": "code",
   "execution_count": 164,
   "metadata": {},
   "outputs": [],
   "source": [
    "accounts['accountType'] = [choose_account_type() for _ in range(30000)]"
   ]
  },
  {
   "cell_type": "code",
   "execution_count": 165,
   "metadata": {},
   "outputs": [],
   "source": [
    "accounts['id'] = range(1, 30001)"
   ]
  },
  {
   "cell_type": "code",
   "execution_count": 166,
   "metadata": {},
   "outputs": [],
   "source": [
    "accounts['userId'] = [random.randint(1, 10000) for _ in range(30000)]"
   ]
  },
  {
   "cell_type": "code",
   "execution_count": 167,
   "metadata": {},
   "outputs": [],
   "source": [
    "def gen_random_status():\n",
    "    weights = [0.96, 0.04]\n",
    "    choice = random.choices([\"Ativa\", \"Inativa\"], weights=weights)\n",
    "    return choice[0]"
   ]
  },
  {
   "cell_type": "code",
   "execution_count": 168,
   "metadata": {},
   "outputs": [],
   "source": [
    "accounts['status'] = [gen_random_status() for _ in range(30000)]"
   ]
  },
  {
   "cell_type": "code",
   "execution_count": 169,
   "metadata": {},
   "outputs": [],
   "source": [
    "accounts['createdAt'] = [gen_random_created_at() for _ in range(30000)]"
   ]
  },
  {
   "cell_type": "code",
   "execution_count": 170,
   "metadata": {},
   "outputs": [],
   "source": [
    "for i, account in accounts.iterrows():\n",
    "    created_at = account['createdAt']\n",
    "    accounts.at[i, 'lastActivityDate'] = gen_random_date_after(created_at)\n",
    "    last_transfer_date = gen_random_date_after(created_at)\n",
    "    accounts.at[i, 'lastTransferDate'] = gen_random_date_after(last_transfer_date)"
   ]
  },
  {
   "cell_type": "code",
   "execution_count": 172,
   "metadata": {},
   "outputs": [],
   "source": [
    "accounts.to_csv(\"accounts.csv\", mode='w', index=False)"
   ]
  }
 ],
 "metadata": {
  "kernelspec": {
   "display_name": "venv",
   "language": "python",
   "name": "python3"
  },
  "language_info": {
   "codemirror_mode": {
    "name": "ipython",
    "version": 3
   },
   "file_extension": ".py",
   "mimetype": "text/x-python",
   "name": "python",
   "nbconvert_exporter": "python",
   "pygments_lexer": "ipython3",
   "version": "3.10.12"
  }
 },
 "nbformat": 4,
 "nbformat_minor": 2
}
